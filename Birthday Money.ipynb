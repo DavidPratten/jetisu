{
 "cells": [
  {
   "cell_type": "code",
   "execution_count": 1,
   "outputs": [],
   "source": [
    "%reload_ext jetisu.query_idr_magic"
   ],
   "metadata": {
    "collapsed": false
   }
  },
  {
   "cell_type": "markdown",
   "source": [
    "# Birthday Money\n",
    "\n",
    "## Source\n",
    "\n",
    "| Key               | Value                                                                                                   |\n",
    "|-------------------|---------------------------------------------------------------------------------------------------------|\n",
    "| Author            | Ram Parameswaran                                                                                        |\n",
    "| Link              | [![Birthday Monday](https://img.youtube.com/vi/qnn8p8xaP1U/0.jpg)](https://youtu.be/qnn8p8xaP1U?t=3999) |\n",
    "| Original Language | OpenFisca                                                                                               |\n",
    "| Retrieved         | 2022-Nov-27                                                                                             |\n",
    "\n",
    "_Lets revisit the example above using intensionally defined relations (IDRs)..._\n",
    "\n",
    "## Initially a flat rate that applies to all children\n",
    "\n",
    "Initially the policy for birthday money was calculated as $10.00 per year. Here is an intensionally defined relation (IDR)\n",
    "```standard_birthday_money``` that captures this."
   ],
   "metadata": {
    "collapsed": false
   }
  },
  {
   "cell_type": "code",
   "execution_count": 2,
   "outputs": [
    {
     "data": {
      "text/plain": "<IPython.core.display.Markdown object>",
      "text/markdown": "```\n\npredicate standard_birthday_money(\n        var int: age,\n        var float: birthday_money) =\nlet {\n    constraint birthday_money = age*10.00; % constraints express a relationship\n} in true;\n```"
     },
     "metadata": {},
     "output_type": "display_data"
    }
   ],
   "source": [
    "%%jetisu_show\n",
    "standard_birthday_money"
   ],
   "metadata": {
    "collapsed": false
   }
  },
  {
   "cell_type": "markdown",
   "source": [
    "The language used to define IDRs is not so important, the crucial aspect is that the reader, and the computing system, understand the intension.  The\n",
    "definition above happens to have been written in [MiniZinc](https://www.minizinc.org/).\n",
    "\n",
    "IDRs can be queried as if they are an ordinary database table that contains _all_ the answers. With this table defined, the\n",
    "following query gives the expected answer:"
   ],
   "metadata": {
    "collapsed": false
   }
  },
  {
   "cell_type": "code",
   "execution_count": 3,
   "outputs": [
    {
     "data": {
      "text/plain": "<IPython.core.display.Markdown object>",
      "text/markdown": "|age|birthday_money|\n|----|----|\n|10.0|100.0|"
     },
     "metadata": {},
     "output_type": "display_data"
    }
   ],
   "source": [
    "%%jetisu_query\n",
    "select * from standard_birthday_money where age = 10;"
   ],
   "metadata": {
    "collapsed": false
   }
  },
  {
   "cell_type": "markdown",
   "source": [
    "And Query 2 also gives the same answer!"
   ],
   "metadata": {
    "collapsed": false
   }
  },
  {
   "cell_type": "code",
   "execution_count": 4,
   "outputs": [
    {
     "data": {
      "text/plain": "<IPython.core.display.Markdown object>",
      "text/markdown": "|age|birthday_money|\n|----|----|\n|10|100.0|"
     },
     "metadata": {},
     "output_type": "display_data"
    }
   ],
   "source": [
    "%%jetisu_query\n",
    "select * from standard_birthday_money where birthday_money=100;"
   ],
   "metadata": {
    "collapsed": false
   }
  },
  {
   "cell_type": "markdown",
   "source": [
    "Notice that the relationship can be queried from multiple directions.\n",
    "## Made conditional on behaviour\n",
    "\n",
    "At some point of time, the amount of birthday money was made contingent on the child's behaviour. Here is the second version.\n"
   ],
   "metadata": {
    "collapsed": false
   }
  },
  {
   "cell_type": "code",
   "execution_count": 5,
   "outputs": [
    {
     "data": {
      "text/plain": "<IPython.core.display.Markdown object>",
      "text/markdown": "```\n\npredicate new_birthday_money(\n    var int: age,\n    var bool: good_behaviour,\n    var float: birthday_money) =\nlet {\n    constraint birthday_money = if good_behaviour then age*20.00 else 0.00 endif\n} in true;\n```"
     },
     "metadata": {},
     "output_type": "display_data"
    }
   ],
   "source": [
    "%%jetisu_show\n",
    "new_birthday_money"
   ],
   "metadata": {
    "collapsed": false
   }
  },
  {
   "cell_type": "markdown",
   "source": [
    "If we now repeat ```Query 1``` we get a different output."
   ],
   "metadata": {
    "collapsed": false
   }
  },
  {
   "cell_type": "code",
   "execution_count": 6,
   "outputs": [
    {
     "data": {
      "text/plain": "<IPython.core.display.Markdown object>",
      "text/markdown": "|age|good_behaviour|birthday_money|\n|----|----|----|\n|10.0|False|0|\n|10.0|True|200|"
     },
     "metadata": {},
     "output_type": "display_data"
    }
   ],
   "source": [
    "%%jetisu_query\n",
    "select * from new_birthday_money where age = 10 ;"
   ],
   "metadata": {
    "collapsed": false
   }
  },
  {
   "cell_type": "markdown",
   "source": [
    "This may be read as \"a child turning ten will receive either nothing, or two hundred dollars birthday money\"\n",
    "\n",
    "As soon as we know the behaviour of the person, we can find the actual birthday money with the following query:"
   ],
   "metadata": {
    "collapsed": false
   }
  },
  {
   "cell_type": "code",
   "execution_count": 7,
   "outputs": [
    {
     "data": {
      "text/plain": "<IPython.core.display.Markdown object>",
      "text/markdown": "|age|good_behaviour|birthday_money|\n|----|----|----|\n|10.0|True|200.0|"
     },
     "metadata": {},
     "output_type": "display_data"
    }
   ],
   "source": [
    "%%jetisu_query\n",
    "select * from new_birthday_money where age = 10 and good_behaviour;"
   ],
   "metadata": {
    "collapsed": false
   }
  },
  {
   "cell_type": "markdown",
   "source": [
    "And again to show that the direction of querying is flexible:"
   ],
   "metadata": {
    "collapsed": false
   }
  },
  {
   "cell_type": "code",
   "execution_count": 8,
   "outputs": [
    {
     "data": {
      "text/plain": "<IPython.core.display.Markdown object>",
      "text/markdown": "|good_behaviour|\n|----|\n|True|"
     },
     "metadata": {},
     "output_type": "display_data"
    }
   ],
   "source": [
    "%%jetisu_query\n",
    "select good_behaviour from new_birthday_money\n",
    "    where age = 10\n",
    "        and birthday_money = 200;"
   ],
   "metadata": {
    "collapsed": false
   }
  },
  {
   "cell_type": "markdown",
   "source": [
    "# Test Data\n",
    "The intensionally define relation lends itself to automated generation of test cases.  Here is an example of a test case that can be validated then copied and used with [pytest](https://docs.pytest.org/). The name of the function is generated by hashing the input query."
   ],
   "metadata": {
    "collapsed": false
   }
  },
  {
   "cell_type": "code",
   "execution_count": 9,
   "outputs": [
    {
     "name": "stdout",
     "output_type": "stream",
     "text": [
      "def test_idr_4cbd6b19e0():\n",
      "    res = idr_query(\"\"\"select good_behaviour from new_birthday_money\n",
      "    where age = 10\n",
      "        and birthday_money = 200;\n",
      "\"\"\", 'data')\n",
      "    assert sorted_res(res) == sorted_res((('good_behaviour',), [(True,)]))\n"
     ]
    }
   ],
   "source": [
    "%%jetisu_testcase\n",
    "select good_behaviour from new_birthday_money\n",
    "    where age = 10\n",
    "        and birthday_money = 200;"
   ],
   "metadata": {
    "collapsed": false
   }
  }
 ],
 "metadata": {
  "kernelspec": {
   "display_name": "Python 3",
   "language": "python",
   "name": "python3"
  },
  "language_info": {
   "codemirror_mode": {
    "name": "ipython",
    "version": 2
   },
   "file_extension": ".py",
   "mimetype": "text/x-python",
   "name": "python",
   "nbconvert_exporter": "python",
   "pygments_lexer": "ipython2",
   "version": "2.7.6"
  }
 },
 "nbformat": 4,
 "nbformat_minor": 0
}
