{
 "cells": [
  {
   "cell_type": "code",
   "execution_count": 19,
   "outputs": [],
   "source": [
    "%reload_ext jetisu.query_idr_magic"
   ],
   "metadata": {
    "collapsed": false
   }
  },
  {
   "cell_type": "markdown",
   "source": [
    "# Australian Goods and Services Tax (GST) Example\n",
    "\n",
    "The following is an example intensionally defined relation that captures\n",
    "the relationship between consumer Price, the Goods and Services Tax\n",
    "(GSTAmount), and the price before application of the GST (ExGSTAmount).\n",
    "The definition is written in MiniZinc."
   ],
   "metadata": {
    "collapsed": false
   }
  },
  {
   "cell_type": "code",
   "execution_count": 20,
   "outputs": [
    {
     "data": {
      "text/plain": "<IPython.core.display.Markdown object>",
      "text/markdown": "```\n\npredicate australian_gst(var float: price,\n                         var float: ex_gst_amount,\n                         var float: gst_amount) =\nlet {\n    constraint price/11 = gst_amount;\n    constraint ex_gst_amount = price-gst_amount;\n    }\nin true;\n```"
     },
     "metadata": {},
     "output_type": "display_data"
    }
   ],
   "source": [
    "%%jetisu_show\n",
    "australian_gst"
   ],
   "metadata": {
    "collapsed": false
   }
  },
  {
   "cell_type": "code",
   "execution_count": 21,
   "outputs": [
    {
     "data": {
      "text/plain": "<IPython.core.display.Markdown object>",
      "text/markdown": "|price|ex_gst_amount|gst_amount|\n|----|----|----|\n|110.0|100.0|10.0|"
     },
     "metadata": {},
     "output_type": "display_data"
    }
   ],
   "source": [
    "%%jetisu_query\n",
    "select * from australian_gst where price = 110;"
   ],
   "metadata": {
    "collapsed": false
   }
  },
  {
   "cell_type": "markdown",
   "source": [
    "The above definition may be read as follows:\n",
    "\n",
    "  - `predicate` is the MiniZinc term meaning \"relation\".\n",
    "\n",
    "  - The intensionally defined relation is given the name\n",
    "    `Australian_GST`.\n",
    "\n",
    "  - Declaration of headings (attributes) using `var <type>: <name>`.\n",
    "\n",
    "  - Two declarations of the relationships between attributes using\n",
    "    constraints.\n",
    "\n",
    "The constraints above, should be read in light of the fact that the\n",
    "following constraints all express the same relationship between Price\n",
    "and GSTAmount: \n",
    "\n",
    "```\n",
    "\n",
    "constraint Price/11 = GSTAmount;\n",
    "constraint GSTAmount = Price/11;\n",
    "constraint GSTAmount*11 = Price;\n",
    "constraint Price = GSTAmount*11;\n",
    "```\n",
    "\n",
    "The following is the behaviour of this intensionally defined relation\n",
    "under various queries. The `Australian_GST` relation returns an empty\n",
    "extension when insufficiently constrained to lead to a finite extension.\n",
    "\n",
    "    select * from Australian_GST;\n",
    "\n",
    "| price | ExGSTAmount | GSTAmount |\n",
    "| :---- | :---------- | :-------- |\n",
    "\n",
    "Query result is an empty relation.\n",
    "\n",
    "The same empty result is obtained when the relation is constrained in a\n",
    "manner that violates the intension. For example:\n"
   ],
   "metadata": {
    "collapsed": false
   }
  },
  {
   "cell_type": "code",
   "execution_count": 22,
   "outputs": [
    {
     "data": {
      "text/plain": "<IPython.core.display.Markdown object>",
      "text/markdown": "|price|ex_gst_amount|gst_amount|\n|----|----|----|\n"
     },
     "metadata": {},
     "output_type": "display_data"
    }
   ],
   "source": [
    "%%jetisu_query\n",
    "select * from Australian_GST where price=100 and ex_gst_amount=1 and gst_amount=1;"
   ],
   "metadata": {
    "collapsed": false
   }
  },
  {
   "cell_type": "markdown",
   "source": [
    "When, however, any one of its attributes is constrained to a value, it\n",
    "returns a single tuple extension."
   ],
   "metadata": {
    "collapsed": false
   }
  },
  {
   "cell_type": "code",
   "execution_count": 23,
   "outputs": [
    {
     "data": {
      "text/plain": "<IPython.core.display.Markdown object>",
      "text/markdown": "|price|ex_gst_amount|gst_amount|\n|----|----|----|\n|110|100|10.0|"
     },
     "metadata": {},
     "output_type": "display_data"
    }
   ],
   "source": [
    "%%jetisu_query\n",
    "select * from australian_gst where gst_amount=10 ;"
   ],
   "metadata": {
    "collapsed": false
   }
  },
  {
   "cell_type": "markdown",
   "source": [
    "And the same result is obtained with any of the following queries.\n",
    "\n",
    "```\n",
    "select * from Australian_GST where ExGSTAmount = 100;\n",
    "select * from Australian_GST where GSTAmount = 10;\n",
    "select * from Australian_GST where GSTAmount = 10 and Price=110;\n",
    "select * from Australian_GST where GSTAmount = 10 and ExGSTAmount=100;\n",
    "select * from Australian_GST where ExGSTAmount = 100 and Price=110;\n",
    "select * from Australian_GST where ExGSTAmount = 100 and Price=110 and GSTAmount=10;\n",
    "```\n",
    "e.g."
   ],
   "metadata": {
    "collapsed": false
   }
  },
  {
   "cell_type": "code",
   "execution_count": 24,
   "outputs": [
    {
     "data": {
      "text/plain": "<IPython.core.display.Markdown object>",
      "text/markdown": "|price|ex_gst_amount|gst_amount|\n|----|----|----|\n|110|100.0|10|"
     },
     "metadata": {},
     "output_type": "display_data"
    }
   ],
   "source": [
    "%%jetisu_query\n",
    "select * from Australian_GST where ex_gst_amount = 100;"
   ],
   "metadata": {
    "collapsed": false
   }
  },
  {
   "cell_type": "markdown",
   "source": [
    "The above example demonstrates how programmers do not need to repeat\n",
    "themselves \"DRY”  when driving computations in different directions.\n",
    "This is in sharp contrast to procedural and functional programming,\n",
    "whereby the GST computation needs to be restated multiple times,\n",
    "depending on what value is known and which ones are unknown.\n"
   ],
   "metadata": {
    "collapsed": false
   }
  }
 ],
 "metadata": {
  "kernelspec": {
   "display_name": "Python 3",
   "language": "python",
   "name": "python3"
  },
  "language_info": {
   "codemirror_mode": {
    "name": "ipython",
    "version": 2
   },
   "file_extension": ".py",
   "mimetype": "text/x-python",
   "name": "python",
   "nbconvert_exporter": "python",
   "pygments_lexer": "ipython2",
   "version": "2.7.6"
  }
 },
 "nbformat": 4,
 "nbformat_minor": 0
}
