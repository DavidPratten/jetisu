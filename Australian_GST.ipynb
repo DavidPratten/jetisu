{
 "cells": [
  {
   "cell_type": "code",
   "execution_count": 9,
   "outputs": [],
   "source": [
    "%reload_ext jetisu.query_idr_magic"
   ],
   "metadata": {
    "collapsed": false,
    "ExecuteTime": {
     "end_time": "2023-09-10T08:33:14.366205500Z",
     "start_time": "2023-09-10T08:33:14.343897800Z"
    }
   }
  },
  {
   "cell_type": "markdown",
   "source": [
    "# Australian Goods and Services Tax (GST) Example\n",
    "\n",
    "The following is an example sigma complete relation that captures\n",
    "the relationship between consumer Price, the Goods and Services Tax\n",
    "(GSTAmount), and the price before application of the GST (ExGSTAmount).\n",
    "The definition is written in MiniZinc."
   ],
   "metadata": {
    "collapsed": false
   }
  },
  {
   "cell_type": "code",
   "execution_count": 10,
   "outputs": [
    {
     "data": {
      "text/plain": "<IPython.core.display.Markdown object>",
      "text/markdown": "```\n\npredicate australian_gst(var float: price,\n                         var float: ex_gst_amount,\n                         var float: gst_amount) =\nlet {\n    constraint price/11 = gst_amount;\n    constraint ex_gst_amount = price-gst_amount;\n    }\nin true;\n```"
     },
     "metadata": {},
     "output_type": "display_data"
    }
   ],
   "source": [
    "%%jetisu_show \n",
    "australian_gst"
   ],
   "metadata": {
    "collapsed": false,
    "ExecuteTime": {
     "end_time": "2023-09-10T08:33:14.374207Z",
     "start_time": "2023-09-10T08:33:14.349519400Z"
    }
   }
  },
  {
   "cell_type": "code",
   "execution_count": 11,
   "outputs": [
    {
     "ename": "KeyError",
     "evalue": "''",
     "output_type": "error",
     "traceback": [
      "\u001B[1;31m---------------------------------------------------------------------------\u001B[0m",
      "\u001B[1;31mKeyError\u001B[0m                                  Traceback (most recent call last)",
      "Cell \u001B[1;32mIn[11], line 1\u001B[0m\n\u001B[1;32m----> 1\u001B[0m \u001B[43mget_ipython\u001B[49m\u001B[43m(\u001B[49m\u001B[43m)\u001B[49m\u001B[38;5;241;43m.\u001B[39;49m\u001B[43mrun_cell_magic\u001B[49m\u001B[43m(\u001B[49m\u001B[38;5;124;43m'\u001B[39;49m\u001B[38;5;124;43mjetisu_query\u001B[39;49m\u001B[38;5;124;43m'\u001B[39;49m\u001B[43m,\u001B[49m\u001B[43m \u001B[49m\u001B[38;5;124;43m'\u001B[39;49m\u001B[38;5;124;43m'\u001B[39;49m\u001B[43m,\u001B[49m\u001B[43m \u001B[49m\u001B[38;5;124;43m'\u001B[39;49m\u001B[38;5;124;43mselect * from australian_gst where price = 110;\u001B[39;49m\u001B[38;5;130;43;01m\\n\u001B[39;49;00m\u001B[38;5;124;43m'\u001B[39;49m\u001B[43m)\u001B[49m\n",
      "File \u001B[1;32m~\\Dropbox\\My PC (ozen)\\Documents\\PyCharmProjects\\jetisu-live\\venv\\Lib\\site-packages\\IPython\\core\\interactiveshell.py:2493\u001B[0m, in \u001B[0;36mInteractiveShell.run_cell_magic\u001B[1;34m(self, magic_name, line, cell)\u001B[0m\n\u001B[0;32m   2491\u001B[0m \u001B[38;5;28;01mwith\u001B[39;00m \u001B[38;5;28mself\u001B[39m\u001B[38;5;241m.\u001B[39mbuiltin_trap:\n\u001B[0;32m   2492\u001B[0m     args \u001B[38;5;241m=\u001B[39m (magic_arg_s, cell)\n\u001B[1;32m-> 2493\u001B[0m     result \u001B[38;5;241m=\u001B[39m \u001B[43mfn\u001B[49m\u001B[43m(\u001B[49m\u001B[38;5;241;43m*\u001B[39;49m\u001B[43margs\u001B[49m\u001B[43m,\u001B[49m\u001B[43m \u001B[49m\u001B[38;5;241;43m*\u001B[39;49m\u001B[38;5;241;43m*\u001B[39;49m\u001B[43mkwargs\u001B[49m\u001B[43m)\u001B[49m\n\u001B[0;32m   2495\u001B[0m \u001B[38;5;66;03m# The code below prevents the output from being displayed\u001B[39;00m\n\u001B[0;32m   2496\u001B[0m \u001B[38;5;66;03m# when using magics with decorator @output_can_be_silenced\u001B[39;00m\n\u001B[0;32m   2497\u001B[0m \u001B[38;5;66;03m# when the last Python token in the expression is a ';'.\u001B[39;00m\n\u001B[0;32m   2498\u001B[0m \u001B[38;5;28;01mif\u001B[39;00m \u001B[38;5;28mgetattr\u001B[39m(fn, magic\u001B[38;5;241m.\u001B[39mMAGIC_OUTPUT_CAN_BE_SILENCED, \u001B[38;5;28;01mFalse\u001B[39;00m):\n",
      "File \u001B[1;32m~\\Dropbox\\My PC (ozen)\\Documents\\PyCharmProjects\\jetisu-live\\jetisu\\query_idr_magic.py:8\u001B[0m, in \u001B[0;36mjetisu_query\u001B[1;34m(line, cell)\u001B[0m\n\u001B[0;32m      7\u001B[0m \u001B[38;5;28;01mdef\u001B[39;00m \u001B[38;5;21mjetisu_query\u001B[39m(line, cell):\n\u001B[1;32m----> 8\u001B[0m     display(Markdown(\u001B[43midr_query\u001B[49m\u001B[43m(\u001B[49m\u001B[43mcell\u001B[49m\u001B[43m,\u001B[49m\u001B[43m \u001B[49m\u001B[38;5;124;43m'\u001B[39;49m\u001B[38;5;124;43mmarkdown table\u001B[39;49m\u001B[38;5;124;43m'\u001B[39;49m\u001B[43m)\u001B[49m))\n",
      "File \u001B[1;32m~\\Dropbox\\My PC (ozen)\\Documents\\PyCharmProjects\\jetisu-live\\jetisu\\idr_query.py:207\u001B[0m, in \u001B[0;36midr_query\u001B[1;34m(sql_query, return_data)\u001B[0m\n\u001B[0;32m    205\u001B[0m         \u001B[38;5;28;01melse\u001B[39;00m:\n\u001B[0;32m    206\u001B[0m             x \u001B[38;5;241m=\u001B[39m line\u001B[38;5;241m.\u001B[39mreplace(\u001B[38;5;124m\"\u001B[39m\u001B[38;5;124m;\u001B[39m\u001B[38;5;124m\"\u001B[39m, \u001B[38;5;124m\"\u001B[39m\u001B[38;5;124m\"\u001B[39m)\u001B[38;5;241m.\u001B[39msplit(\u001B[38;5;124m\"\u001B[39m\u001B[38;5;124m=\u001B[39m\u001B[38;5;124m\"\u001B[39m)\n\u001B[1;32m--> 207\u001B[0m             column\u001B[38;5;241m.\u001B[39mappend(\u001B[38;5;124m'\u001B[39m\u001B[38;5;124m\"\u001B[39m\u001B[38;5;124m'\u001B[39m \u001B[38;5;241m+\u001B[39m x[\u001B[38;5;241m0\u001B[39m]\u001B[38;5;241m.\u001B[39mstrip() \u001B[38;5;241m+\u001B[39m \u001B[38;5;124m'\u001B[39m\u001B[38;5;124m\"\u001B[39m\u001B[38;5;124m: \u001B[39m\u001B[38;5;124m'\u001B[39m \u001B[38;5;241m+\u001B[39m \u001B[43mmzn_output_quote\u001B[49m\u001B[43m(\u001B[49m\u001B[43mx\u001B[49m\u001B[43m[\u001B[49m\u001B[38;5;241;43m0\u001B[39;49m\u001B[43m]\u001B[49m\u001B[38;5;241;43m.\u001B[39;49m\u001B[43mstrip\u001B[49m\u001B[43m(\u001B[49m\u001B[43m)\u001B[49m\u001B[43m,\u001B[49m\u001B[43m \u001B[49m\u001B[43mx\u001B[49m\u001B[43m[\u001B[49m\u001B[38;5;241;43m1\u001B[39;49m\u001B[43m]\u001B[49m\u001B[38;5;241;43m.\u001B[39;49m\u001B[43mstrip\u001B[49m\u001B[43m(\u001B[49m\u001B[43m)\u001B[49m\u001B[43m,\u001B[49m\u001B[43m \u001B[49m\u001B[38;5;28;43mdict\u001B[39;49m\u001B[43m(\u001B[49m\u001B[43m[\u001B[49m\u001B[43m(\u001B[49m\u001B[43mk\u001B[49m\u001B[43m,\u001B[49m\u001B[43m \u001B[49m\u001B[43mv\u001B[49m\u001B[43m)\u001B[49m\u001B[43m \u001B[49m\u001B[38;5;28;43;01mfor\u001B[39;49;00m\u001B[43m \u001B[49m\u001B[43mv\u001B[49m\u001B[43m,\u001B[49m\u001B[43m \u001B[49m\u001B[43mk\u001B[49m\u001B[43m \u001B[49m\u001B[38;5;129;43;01min\u001B[39;49;00m\u001B[43m \u001B[49m\u001B[43mtyped_parameters_list\u001B[49m\u001B[43m]\u001B[49m\u001B[43m)\u001B[49m\u001B[43m)\u001B[49m)\n\u001B[0;32m    209\u001B[0m     solver_data \u001B[38;5;241m=\u001B[39m json\u001B[38;5;241m.\u001B[39mloads(\u001B[38;5;124m'\u001B[39m\u001B[38;5;124m[\u001B[39m\u001B[38;5;124m'\u001B[39m \u001B[38;5;241m+\u001B[39m \u001B[38;5;124m'\u001B[39m\u001B[38;5;124m, \u001B[39m\u001B[38;5;124m'\u001B[39m\u001B[38;5;241m.\u001B[39mjoin(data_output) \u001B[38;5;241m+\u001B[39m \u001B[38;5;124m'\u001B[39m\u001B[38;5;124m]\u001B[39m\u001B[38;5;124m'\u001B[39m)\n\u001B[0;32m    211\u001B[0m os\u001B[38;5;241m.\u001B[39mremove(model_fn \u001B[38;5;241m+\u001B[39m \u001B[38;5;124m\"\u001B[39m\u001B[38;5;124m.mzn\u001B[39m\u001B[38;5;124m\"\u001B[39m)\n",
      "File \u001B[1;32m~\\Dropbox\\My PC (ozen)\\Documents\\PyCharmProjects\\jetisu-live\\jetisu\\idr_query.py:37\u001B[0m, in \u001B[0;36mmzn_output_quote\u001B[1;34m(k, v, typed_parameters_dict)\u001B[0m\n\u001B[0;32m     36\u001B[0m \u001B[38;5;28;01mdef\u001B[39;00m \u001B[38;5;21mmzn_output_quote\u001B[39m(k, v, typed_parameters_dict):\n\u001B[1;32m---> 37\u001B[0m     \u001B[38;5;28;01mif\u001B[39;00m \u001B[38;5;124m'\u001B[39m\u001B[38;5;124menum\u001B[39m\u001B[38;5;124m'\u001B[39m \u001B[38;5;129;01min\u001B[39;00m \u001B[43mtyped_parameters_dict\u001B[49m\u001B[43m[\u001B[49m\u001B[43mk\u001B[49m\u001B[43m]\u001B[49m:\n\u001B[0;32m     38\u001B[0m         \u001B[38;5;28;01mreturn\u001B[39;00m \u001B[38;5;124m'\u001B[39m\u001B[38;5;124m\"\u001B[39m\u001B[38;5;124m'\u001B[39m\u001B[38;5;241m+\u001B[39mv\u001B[38;5;241m+\u001B[39m\u001B[38;5;124m'\u001B[39m\u001B[38;5;124m\"\u001B[39m\u001B[38;5;124m'\u001B[39m\n\u001B[0;32m     39\u001B[0m     \u001B[38;5;28;01melse\u001B[39;00m:\n",
      "\u001B[1;31mKeyError\u001B[0m: ''"
     ]
    }
   ],
   "source": [
    "%%jetisu_query\n",
    "select * from australian_gst where price = 110;"
   ],
   "metadata": {
    "collapsed": false,
    "ExecuteTime": {
     "end_time": "2023-09-10T08:33:14.465441300Z",
     "start_time": "2023-09-10T08:33:14.353206400Z"
    }
   }
  },
  {
   "cell_type": "markdown",
   "source": [
    "The above definition may be read as follows:\n",
    "\n",
    "  - `predicate` is the MiniZinc term meaning \"relation\".\n",
    "\n",
    "  - The intensionally defined relation is given the name\n",
    "    `Australian_GST`.\n",
    "\n",
    "  - Declaration of headings (attributes) using `var <type>: <name>`.\n",
    "\n",
    "  - Two declarations of the relationships between attributes using\n",
    "    constraints.\n",
    "\n",
    "The constraints above, should be read in light of the fact that the\n",
    "following constraints all express the same relationship between Price\n",
    "and GSTAmount: \n",
    "\n",
    "```\n",
    "\n",
    "constraint Price/11 = GSTAmount;\n",
    "constraint GSTAmount = Price/11;\n",
    "constraint GSTAmount*11 = Price;\n",
    "constraint Price = GSTAmount*11;\n",
    "```\n",
    "\n",
    "The following is the behaviour of this sigma complete relation\n",
    "under various queries. The `Australian_GST` relation returns an empty\n",
    "extension when insufficiently constrained to lead to a finite extension.\n",
    "\n",
    "    select * from Australian_GST;\n",
    "\n",
    "| price | ExGSTAmount | GSTAmount |\n",
    "| :---- | :---------- | :-------- |\n",
    "\n",
    "Query result is an empty relation.\n",
    "\n",
    "The same empty result is obtained when the relation is constrained in a\n",
    "manner that violates the predicate. For example:\n"
   ],
   "metadata": {
    "collapsed": false
   }
  },
  {
   "cell_type": "code",
   "execution_count": null,
   "outputs": [],
   "source": [
    "%%jetisu_query\n",
    "select * from Australian_GST where price=100 and ex_gst_amount=1 and gst_amount=1;"
   ],
   "metadata": {
    "collapsed": false,
    "ExecuteTime": {
     "end_time": "2023-09-10T08:33:14.469460900Z",
     "start_time": "2023-09-10T08:33:14.466438800Z"
    }
   }
  },
  {
   "cell_type": "markdown",
   "source": [
    "When, however, any one of its attributes is constrained to a value, it\n",
    "returns a single tuple extension."
   ],
   "metadata": {
    "collapsed": false
   }
  },
  {
   "cell_type": "code",
   "execution_count": null,
   "outputs": [],
   "source": [
    "%%jetisu_query\n",
    "select * from australian_gst where gst_amount=10 ;"
   ],
   "metadata": {
    "collapsed": false,
    "ExecuteTime": {
     "start_time": "2023-09-10T08:33:14.467439500Z"
    }
   }
  },
  {
   "cell_type": "markdown",
   "source": [
    "And the same result is obtained with any of the following queries.\n",
    "\n",
    "```\n",
    "select * from Australian_GST where ExGSTAmount = 100;\n",
    "select * from Australian_GST where GSTAmount = 10;\n",
    "select * from Australian_GST where GSTAmount = 10 and Price=110;\n",
    "select * from Australian_GST where GSTAmount = 10 and ExGSTAmount=100;\n",
    "select * from Australian_GST where ExGSTAmount = 100 and Price=110;\n",
    "select * from Australian_GST where ExGSTAmount = 100 and Price=110 and GSTAmount=10;\n",
    "```\n",
    "e.g."
   ],
   "metadata": {
    "collapsed": false
   }
  },
  {
   "cell_type": "code",
   "execution_count": null,
   "outputs": [],
   "source": [
    "%%jetisu_query\n",
    "select * from Australian_GST where ex_gst_amount = 100;"
   ],
   "metadata": {
    "collapsed": false,
    "ExecuteTime": {
     "start_time": "2023-09-10T08:33:14.468471200Z"
    }
   }
  },
  {
   "cell_type": "markdown",
   "source": [
    "The above example demonstrates how programmers do not need to repeat\n",
    "themselves \"DRY”  when driving computations in different directions.\n",
    "This is in sharp contrast to procedural and functional programming,\n",
    "whereby the GST computation needs to be restated multiple times,\n",
    "depending on what value is known and which ones are unknown.\n",
    "\n",
    "## Next step\n",
    "You can edit and re-run this example workbook by following the instructions here:\n",
    "[How to run the example notebooks](https://github.com/DavidPratten/jetisu/blob/main/docs/run_notebooks.md)\n"
   ],
   "metadata": {
    "collapsed": false
   }
  }
 ],
 "metadata": {
  "kernelspec": {
   "display_name": "Python 3",
   "language": "python",
   "name": "python3"
  },
  "language_info": {
   "codemirror_mode": {
    "name": "ipython",
    "version": 2
   },
   "file_extension": ".py",
   "mimetype": "text/x-python",
   "name": "python",
   "nbconvert_exporter": "python",
   "pygments_lexer": "ipython2",
   "version": "2.7.6"
  }
 },
 "nbformat": 4,
 "nbformat_minor": 0
}
