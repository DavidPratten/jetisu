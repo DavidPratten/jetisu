{
 "cells": [
  {
   "cell_type": "code",
   "execution_count": 2,
   "metadata": {
    "collapsed": true
   },
   "outputs": [],
   "source": [
    "%reload_ext jetisu.query_idr_magic"
   ]
  },
  {
   "cell_type": "markdown",
   "source": [
    "# Interactive Q&A with COVID Rules for Workplaces\n",
    "Intensionally defined relations support goal directed question and answer with users. This notebook shows how to find the values in any column in the [covid_vaccinations_and_work](COVID_vaccinations_and_work.ipynb) relation through Q&A.\n",
    "\n",
    "Goal seeking is begun by nominating the relation being searched and the list of columns that are sought.  Jetisu chooses the sequence of questions to ask that will give the answer in the fewest questions.\n",
    "\n",
    "# Am I required to have COVID Vaccinations for my work?\n",
    "The ```COVID vaccinations and work``` relation has two columns that show whether a worker is required to have one or more COVID vaccinations. The ```%%jetisu_seek_goal``` notebook cell accepts the name of a relation (table) and the columns that are sought.\n",
    "\n",
    "When the following cell is run, the user will be asked for information about their role and the required number of vaccinations will be found.\n",
    "\n",
    "_To see this in action, you will need to [run the example notebooks](docs/run_notebooks.md) for yourself._\n"
   ],
   "metadata": {
    "collapsed": false
   }
  },
  {
   "cell_type": "code",
   "execution_count": 3,
   "outputs": [
    {
     "name": "stdout",
     "output_type": "stream",
     "text": [
      "Finding covid_vaccination_work_recommended_doses, covid_vaccination_work_mandatory, please answer the following questions ...\n",
      "\n"
     ]
    },
    {
     "data": {
      "text/plain": "<IPython.core.display.Markdown object>",
      "text/markdown": "## Answer\n|covid_vaccination_work_recommended_doses|covid_vaccination_work_mandatory|\n|----|----|\n|3|True|\n### Because\nwork_sector='aged_care' and work_location='new_south_wales' and aged_care_facility\n\n### Along the way, the following additional values were determined:\n|specialist_school|\n|----|\n|False|\n\n|nsw_health_worker|\n|----|\n|False|\n\n|disability_worker_in_school|\n|----|\n|False|\n\n\n### And the following values were under-determined:\n|private_home_only|\n|----|\n|False|\n|True|\n\n"
     },
     "metadata": {},
     "output_type": "display_data"
    }
   ],
   "source": [
    "%%jetisu_seek_goal\n",
    "{\n",
    "    \"table_name\": \"covid_vaccinations_and_work\",\n",
    "    \"goal_list\": [\n",
    "        \"covid_vaccination_work_recommended_doses\",\n",
    "        \"covid_vaccination_work_mandatory\"\n",
    "    ]\n",
    "}"
   ],
   "metadata": {
    "collapsed": false,
    "tags": [
     "skip-execution"
    ]
   }
  },
  {
   "cell_type": "markdown",
   "source": [
    "# How does jetisu determine which questions to ask and in what sequence?\n",
    "The next question to ask is computed 'on-the-fly' by jetisu. Of the columns containing unknown values, the best column to ask a question about is found by using the following scoring system:\n",
    "- The more values in a column, the higher the column's score. e.g. The ```work_sector``` column has 7 values so will be higher scored that a True/False column like ```private_home_only```\n",
    "- If the column is a cross-product of the other columns the score is lower. (Still working on a compelling illustration of this heuristic.)\n",
    "- The more equal the distribution of values in the column the higher the score. e.g. if a column has three values, but 90% of the rows have just one value and the remaining two values share 10% of the rows, then this will score lower than a column of three values where the distribution is more equal.\n",
    "\n",
    "Here is another example ...\n",
    "\n",
    "# Based on the COVID rules, what is my work sector?"
   ],
   "metadata": {
    "collapsed": false
   }
  },
  {
   "cell_type": "code",
   "execution_count": 5,
   "outputs": [
    {
     "name": "stdout",
     "output_type": "stream",
     "text": [
      "Finding work_sector, please answer the following questions ...\n",
      "\n"
     ]
    },
    {
     "data": {
      "text/plain": "<IPython.core.display.Markdown object>",
      "text/markdown": "## Answer\n|work_sector|\n|----|\n|custodial|\n|disability_services|\n|emergency_services|\n|healthcare|\n### Because\ncovid_vaccination_work_recommended_doses=3 and work_location='victoria' and not aged_care_facility and not specialist_school and not private_home_only\n\n### Along the way, the following additional values were determined:\n|covid_vaccination_work_mandatory|\n|----|\n|True|\n\n|nsw_health_worker|\n|----|\n|False|\n\n|disability_worker_in_school|\n|----|\n|False|\n\n\n### And the following values were under-determined:\n"
     },
     "metadata": {},
     "output_type": "display_data"
    }
   ],
   "source": [
    "%%jetisu_seek_goal\n",
    "{\n",
    "    \"table_name\": \"covid_vaccinations_and_work\",\n",
    "    \"goal_list\": [\n",
    "        \"work_sector\"\n",
    "    ]\n",
    "}"
   ],
   "metadata": {
    "collapsed": false,
    "tags": [
     "skip-execution"
    ]
   }
  },
  {
   "cell_type": "markdown",
   "source": [
    "# Next step\n",
    "You can edit and re-run this example workbook by following the instructions here:\n",
    "[How to run the example notebooks](https://github.com/DavidPratten/jetisu/blob/main/docs/run_notebooks.md)\n",
    "\n",
    "You could, for example seek the ```work_location``` column using the cell below."
   ],
   "metadata": {
    "collapsed": false
   }
  },
  {
   "cell_type": "code",
   "execution_count": null,
   "outputs": [],
   "source": [
    "%%jetisu_seek_goal\n",
    "{\n",
    "    \"table_name\": \"covid_vaccinations_and_work\",\n",
    "    \"goal_list\": [\n",
    "        \"work_location\"\n",
    "    ]\n",
    "}"
   ],
   "metadata": {
    "collapsed": false,
    "tags": [
     "skip-execution"
    ]
   }
  }
 ],
 "metadata": {
  "kernelspec": {
   "display_name": "Python 3",
   "language": "python",
   "name": "python3"
  },
  "language_info": {
   "codemirror_mode": {
    "name": "ipython",
    "version": 2
   },
   "file_extension": ".py",
   "mimetype": "text/x-python",
   "name": "python",
   "nbconvert_exporter": "python",
   "pygments_lexer": "ipython2",
   "version": "2.7.6"
  }
 },
 "nbformat": 4,
 "nbformat_minor": 0
}
