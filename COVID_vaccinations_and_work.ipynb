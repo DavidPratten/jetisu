{
 "cells": [
  {
   "cell_type": "markdown",
   "source": [
    "# Australian COVID Vaccinations and Work (circa mid 2022)\n",
    "This example explores the mandatory COVID vaccination regime in place in the middle of 2022. Three Australian states: New South Wales, Victoria, and Western Australia are covered in this example.\n",
    "\n",
    "The sigma complete relation ```covid_vaccinations_and_work``` which contains the relevant rules is defined in [MiniZinc](https://www.minizinc.org/). Here is the definition."
   ],
   "metadata": {
    "collapsed": false
   }
  },
  {
   "cell_type": "code",
   "execution_count": 1,
   "outputs": [],
   "source": [
    "%reload_ext jetisu.query_idr_magic"
   ],
   "metadata": {
    "collapsed": false
   }
  },
  {
   "cell_type": "code",
   "execution_count": 2,
   "outputs": [
    {
     "data": {
      "text/plain": "<IPython.core.display.Markdown object>",
      "text/markdown": "```\n\nenum work_location_enum = { new_south_wales, victoria, western_australia};\nenum work_sector_enum = {education, aged_care, healthcare, custodial, emergency_services, disability_services,  other };\n\npredicate covid_vaccinations_and_work(\n    var work_location_enum: work_location,\n    var work_sector_enum: work_sector,\n    var bool: specialist_school,\n    var bool: aged_care_facility,\n    var bool: disability_worker_in_school,\n    var bool: private_home_only,\n    var bool: nsw_health_worker,\n    var bool: covid_vaccination_work_mandatory,\n    var int: covid_vaccination_work_recommended_doses\n    ) =\nlet {\nconstraint (covid_vaccination_work_recommended_doses > 0) <-> covid_vaccination_work_mandatory;\nconstraint disability_worker_in_school -> (work_sector = education);\nconstraint specialist_school -> (work_sector = education);\nconstraint aged_care_facility -> (work_sector = aged_care);\nconstraint nsw_health_worker -> (work_sector = healthcare /\\ work_location = new_south_wales);\nconstraint covid_vaccination_work_recommended_doses =\n  if work_location = new_south_wales then\n    if work_sector = education then\n      if disability_worker_in_school then\n        3\n      else\n        0\n      endif\n    elseif work_sector = aged_care then\n      if aged_care_facility then\n        3\n      else\n        2\n      endif\n    elseif work_sector = disability_services then\n      3\n    elseif work_sector = healthcare then\n      if nsw_health_worker then\n        3\n      else\n        0\n      endif\n    else\n      0\n    endif\n  elseif  work_location = victoria then\n    if work_sector = education then\n      if specialist_school then\n        3\n      else\n        0\n      endif\n    elseif work_sector = aged_care then\n      if aged_care_facility then\n        3\n      else\n        0\n      endif\n    elseif work_sector = custodial then\n      3\n    elseif work_sector = emergency_services then\n      3\n    elseif work_sector = disability_services then\n      3\n    elseif work_sector = healthcare then\n      3\n    elseif work_sector = other then\n      0\n    else\n      0\n    endif\n  elseif  work_location = western_australia then\n    if work_sector = aged_care then\n      if private_home_only then\n        0\n      else\n        3\n      endif\n    elseif work_sector = disability_services then\n      if private_home_only then\n        0\n      else\n        3\n      endif\n    elseif work_sector = healthcare then\n      if private_home_only then\n        0\n      else\n        3\n      endif\n    elseif work_sector = other then\n      0\n    else\n      0\n    endif\n  else\n    0\n  endif;\n} in true;\n```"
     },
     "metadata": {},
     "output_type": "display_data"
    }
   ],
   "source": [
    "%%jetisu_show\n",
    "covid_vaccinations_and_work"
   ],
   "metadata": {
    "collapsed": false
   }
  },
  {
   "cell_type": "markdown",
   "source": [
    "And here are some sample queries.\n",
    "\n",
    "Which roles within New South Wales require 3 COVID vaccinations?"
   ],
   "metadata": {
    "collapsed": false
   }
  },
  {
   "cell_type": "code",
   "execution_count": 3,
   "outputs": [
    {
     "data": {
      "text/plain": "<IPython.core.display.Markdown object>",
      "text/markdown": "|work_location|work_sector|specialist_school|aged_care_facility|disability_worker_in_school|nsw_health_worker|\n|----|----|----|----|----|----|\n|new_south_wales|aged_care|False|True|False|False|\n|new_south_wales|disability_services|False|False|False|False|\n|new_south_wales|education|False|False|True|False|\n|new_south_wales|education|True|False|True|False|\n|new_south_wales|healthcare|False|False|False|True|"
     },
     "metadata": {},
     "output_type": "display_data"
    }
   ],
   "source": [
    "%%jetisu_query\n",
    "select distinct work_location,\n",
    "work_sector,\n",
    "specialist_school,\n",
    "aged_care_facility,\n",
    "disability_worker_in_school,\n",
    "nsw_health_worker from covid_vaccinations_and_work where work_location = 'new_south_wales' and covid_vaccination_work_recommended_doses=3 order by work_sector;"
   ],
   "metadata": {
    "collapsed": false
   }
  },
  {
   "cell_type": "markdown",
   "source": [
    "And in Western Australia, which roles require 3 COVID vaccinations?"
   ],
   "metadata": {
    "collapsed": false
   }
  },
  {
   "cell_type": "code",
   "execution_count": 4,
   "outputs": [
    {
     "data": {
      "text/plain": "<IPython.core.display.Markdown object>",
      "text/markdown": "|work_location|work_sector|specialist_school|aged_care_facility|disability_worker_in_school|private_home_only|\n|----|----|----|----|----|----|\n|western_australia|aged_care|False|False|False|False|\n|western_australia|aged_care|False|True|False|False|\n|western_australia|disability_services|False|False|False|False|\n|western_australia|healthcare|False|False|False|False|"
     },
     "metadata": {},
     "output_type": "display_data"
    }
   ],
   "source": [
    "%%jetisu_query\n",
    "select distinct work_location,\n",
    "work_sector,\n",
    "specialist_school,\n",
    "aged_care_facility,\n",
    "disability_worker_in_school,\n",
    "private_home_only from covid_vaccinations_and_work where work_location = 'western_australia' and covid_vaccination_work_recommended_doses=3 order by work_location;"
   ],
   "metadata": {
    "collapsed": false
   }
  },
  {
   "cell_type": "markdown",
   "source": [
    "What is the requirement for emergency services workers across the three States?"
   ],
   "metadata": {
    "collapsed": false
   }
  },
  {
   "cell_type": "code",
   "execution_count": 5,
   "outputs": [
    {
     "data": {
      "text/plain": "<IPython.core.display.Markdown object>",
      "text/markdown": "|work_location|covid_vaccination_work_recommended_doses|\n|----|----|\n|new_south_wales|0|\n|victoria|3|\n|western_australia|0|"
     },
     "metadata": {},
     "output_type": "display_data"
    }
   ],
   "source": [
    "%%jetisu_query\n",
    "select distinct work_location, covid_vaccination_work_recommended_doses from covid_vaccinations_and_work where work_sector = 'emergency_services';"
   ],
   "metadata": {
    "collapsed": false
   }
  },
  {
   "cell_type": "markdown",
   "source": [
    "If I am a NSW Health Worker, what vaccinations am I required to have?  Notice here that the work location and work sector of the person are correctly inferred."
   ],
   "metadata": {
    "collapsed": false
   }
  },
  {
   "cell_type": "code",
   "execution_count": 6,
   "outputs": [
    {
     "data": {
      "text/plain": "<IPython.core.display.Markdown object>",
      "text/markdown": "|nsw_health_worker|work_location|work_sector|covid_vaccination_work_recommended_doses|\n|----|----|----|----|\n|True|new_south_wales|healthcare|3|"
     },
     "metadata": {},
     "output_type": "display_data"
    }
   ],
   "source": [
    "%%jetisu_query\n",
    "select distinct nsw_health_worker, work_location, work_sector, covid_vaccination_work_recommended_doses from covid_vaccinations_and_work where nsw_health_worker;"
   ],
   "metadata": {
    "collapsed": false
   }
  },
  {
   "cell_type": "markdown",
   "source": [
    "## Test Cases\n",
    "In addition to these examples, the ```covid_vaccinations_and_work``` intensionally defined relation passes an additional 23 tests in ```test_covid_vaccinations_and_work.py```.\n",
    "\n",
    "## Next step\n",
    "You can edit and re-run this example workbook by following the instructions here:\n",
    "[How to run the example notebooks](https://github.com/DavidPratten/jetisu/blob/main/docs/run_notebooks.md)"
   ],
   "metadata": {
    "collapsed": false
   }
  }
 ],
 "metadata": {
  "kernelspec": {
   "display_name": "Python 3",
   "language": "python",
   "name": "python3"
  },
  "language_info": {
   "codemirror_mode": {
    "name": "ipython",
    "version": 2
   },
   "file_extension": ".py",
   "mimetype": "text/x-python",
   "name": "python",
   "nbconvert_exporter": "python",
   "pygments_lexer": "ipython2",
   "version": "2.7.6"
  }
 },
 "nbformat": 4,
 "nbformat_minor": 0
}
