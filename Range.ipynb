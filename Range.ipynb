{
 "cells": [
  {
   "cell_type": "code",
   "execution_count": 1,
   "metadata": {
    "collapsed": false,
    "execution": {
     "iopub.execute_input": "2022-12-31T21:13:09.279315Z",
     "iopub.status.busy": "2022-12-31T21:13:09.278309Z",
     "iopub.status.idle": "2022-12-31T21:13:09.383313Z",
     "shell.execute_reply": "2022-12-31T21:13:09.383313Z"
    }
   },
   "outputs": [],
   "source": [
    "%reload_ext jetisu.query_idr_magic"
   ]
  },
  {
   "cell_type": "markdown",
   "metadata": {
    "collapsed": false
   },
   "source": [
    "# Range\n",
    "\n",
    "When appropriately constrained in a query, the `range` relation returns\n",
    "all elements in a range of `N` equally spaced values `FromStart` to\n",
    "`ToStop`.\n",
    "\n",
    "The `range` relation is used to illustrate three aspects of\n",
    "sigma complete relations:\n",
    "\n",
    "1.  Multi-row result sets\n",
    "\n",
    "2.  The folding of constraints from the query environment down to create\n",
    "    a new intensionally defined relation that may be queried without a\n",
    "    `WHERE` clause\n",
    "\n",
    "3.  Querying a relation from multiple directions as we normally do for\n",
    "    data relations.\n",
    "\n",
    "Here is the definition MiniZinc:"
   ]
  },
  {
   "cell_type": "code",
   "execution_count": 2,
   "metadata": {
    "collapsed": false,
    "execution": {
     "iopub.execute_input": "2022-12-31T21:13:09.387318Z",
     "iopub.status.busy": "2022-12-31T21:13:09.387318Z",
     "iopub.status.idle": "2022-12-31T21:13:09.395809Z",
     "shell.execute_reply": "2022-12-31T21:13:09.395809Z"
    }
   },
   "outputs": [
    {
     "data": {
      "text/plain": "<IPython.core.display.Markdown object>",
      "text/markdown": "```\n\npredicate range(var float: from_start,\n                var float: to_stop,\n                var int: n,\n                var int: nth,\n                var float: nth_value) =\nlet {\n  constraint n > 0;\n  constraint 0 <= nth /\\ nth <= n-1;\n  constraint nth_value = from_start + (to_stop-from_start) / (n-1) * nth ;\n} in true;\n```"
     },
     "metadata": {},
     "output_type": "display_data"
    }
   ],
   "source": [
    "%%jetisu_show\n",
    "range"
   ]
  },
  {
   "cell_type": "markdown",
   "metadata": {
    "collapsed": false
   },
   "source": [
    "The first example query illustrates how an sigma complete\n",
    "relation may return multiple rows when queried, giving a result which starts at 10, finishes at 20 and has 5 values in\n",
    "the sequence:"
   ]
  },
  {
   "cell_type": "code",
   "execution_count": 3,
   "metadata": {
    "collapsed": false,
    "execution": {
     "iopub.execute_input": "2022-12-31T21:13:09.399817Z",
     "iopub.status.busy": "2022-12-31T21:13:09.398817Z",
     "iopub.status.idle": "2022-12-31T21:13:09.572184Z",
     "shell.execute_reply": "2022-12-31T21:13:09.572184Z"
    }
   },
   "outputs": [
    {
     "data": {
      "text/plain": "<IPython.core.display.Markdown object>",
      "text/markdown": "|from_start|to_stop|n|nth|nth_value|\n|----|----|----|----|----|\n|10.0|20.0|5.0|0|10|\n|10.0|20.0|5.0|1|12.5|\n|10.0|20.0|5.0|2|15|\n|10.0|20.0|5.0|3|17.5|\n|10.0|20.0|5.0|4|20|"
     },
     "metadata": {},
     "output_type": "display_data"
    }
   ],
   "source": [
    "%%jetisu_query\n",
    "select * from range where N=5 and From_Start=10 and To_Stop = 20;"
   ]
  },
  {
   "cell_type": "markdown",
   "metadata": {
    "collapsed": false
   },
   "source": [
    "The second example query shows how the contents of `WHERE` clauses may\n",
    "be folded into the predicate of the relation.\n",
    "\n",
    "```\n",
    "\n",
    "select * from range where N=5 and FromStart=10 and ToStop = 20 and nthValue < 13;\n",
    "```\n",
    "\n",
    "\n",
    "\n",
    "| FromStart | ToStop | N | nth | nthValue |\n",
    "| :-------- | :----- | :- | :-- | :------- |\n",
    "| 10.0      | 20.0   | 5 | 0   | 10       |\n",
    "| 10.0      | 20.0   | 5 | 1   | 12.5     |\n",
    "\n",
    "Second query results\n",
    "\n",
    "It is an implementation detail as to what plan was followed to generate\n",
    "this result. Here are a couple of alternative plans:\n",
    "\n",
    "  - Compute the result of the first example query and filter out rows\n",
    "    which do not have `nthValue < 13`\n",
    "\n",
    "  - Push the \"`nthValue < 13`\" constraint down into an sigma complete relation `range1` and query it instead of `range`.\n",
    "\n",
    "Here is an intensional definition of a relation where the query\n",
    "constraints in the `WHERE` clause are pushed down into the MiniZinc\n",
    "definition."
   ]
  },
  {
   "cell_type": "code",
   "execution_count": 4,
   "metadata": {
    "collapsed": false,
    "execution": {
     "iopub.execute_input": "2022-12-31T21:13:09.577968Z",
     "iopub.status.busy": "2022-12-31T21:13:09.576958Z",
     "iopub.status.idle": "2022-12-31T21:13:09.585488Z",
     "shell.execute_reply": "2022-12-31T21:13:09.585488Z"
    }
   },
   "outputs": [
    {
     "data": {
      "text/plain": "<IPython.core.display.Markdown object>",
      "text/markdown": "```\n\npredicate range2(var float: from_start,\n                var float: to_stop,\n                var int: n,\n                var int: nth,\n                var float: nth_value) =\nlet {\n  constraint n > 0;\n  constraint 0 <= nth /\\ nth <= n-1;\n  constraint nth_value = from_start + (to_stop-from_start) / (n-1) * nth ;\n\n} in true;\nconstraint nth_value < 13.0;\nn = 5 ;\nfrom_start = 10;\nto_stop = 20;\n\n\n```"
     },
     "metadata": {},
     "output_type": "display_data"
    }
   ],
   "source": [
    "%%jetisu_show\n",
    "range2"
   ]
  },
  {
   "cell_type": "markdown",
   "metadata": {
    "collapsed": false
   },
   "source": [
    "and here is the result of querying this relation"
   ]
  },
  {
   "cell_type": "code",
   "execution_count": 5,
   "metadata": {
    "collapsed": false,
    "execution": {
     "iopub.execute_input": "2022-12-31T21:13:09.589502Z",
     "iopub.status.busy": "2022-12-31T21:13:09.588496Z",
     "iopub.status.idle": "2022-12-31T21:13:09.756338Z",
     "shell.execute_reply": "2022-12-31T21:13:09.756338Z"
    }
   },
   "outputs": [
    {
     "data": {
      "text/plain": "<IPython.core.display.Markdown object>",
      "text/markdown": "|from_start|to_stop|n|nth|nth_value|\n|----|----|----|----|----|\n|10.0|20.0|5|0|10|\n|10.0|20.0|5|1|12.5|"
     },
     "metadata": {},
     "output_type": "display_data"
    }
   ],
   "source": [
    "%%jetisu_query\n",
    "select * from range2;"
   ]
  },
  {
   "cell_type": "markdown",
   "metadata": {
    "collapsed": false
   },
   "source": [
    "The third example query illustrates how the `range` relation may be\n",
    "queried from multiple directions, as is usually expected for relations. The following query gives a relation which finds the FromStart and Nth values which belong\n",
    "to sequences with nthValue of 15.0 which finish at 20 and have 5 values\n",
    "in each sequence. There are four tuples in the result:"
   ]
  },
  {
   "cell_type": "code",
   "execution_count": 6,
   "metadata": {
    "collapsed": false,
    "execution": {
     "iopub.execute_input": "2022-12-31T21:13:09.759872Z",
     "iopub.status.busy": "2022-12-31T21:13:09.759872Z",
     "iopub.status.idle": "2022-12-31T21:13:09.957882Z",
     "shell.execute_reply": "2022-12-31T21:13:09.956862Z"
    }
   },
   "outputs": [
    {
     "data": {
      "text/plain": "<IPython.core.display.Markdown object>",
      "text/markdown": "|from_start|to_stop|n|nth|nth_value|\n|----|----|----|----|----|\n|15|20.0|5.0|0|15.0|\n|13.3333333333|20.0|5.0|1|15.0|\n|10|20.0|5.0|2|15.0|\n|0|20.0|5.0|3|15.0|"
     },
     "metadata": {},
     "output_type": "display_data"
    }
   ],
   "source": [
    "%%jetisu_query\n",
    "select * from range where N=5 and To_Stop = 20 and nth_Value=15.0;"
   ]
  },
  {
   "cell_type": "markdown",
   "metadata": {
    "collapsed": false
   },
   "source": [
    "## Next step\n",
    "You can edit and re-run this example workbook by following the instructions here:\n",
    "[How to run the example notebooks](https://github.com/DavidPratten/jetisu/blob/main/docs/run_notebooks.md)"
   ]
  }
 ],
 "metadata": {
  "kernelspec": {
   "display_name": "Python 3",
   "language": "python",
   "name": "python3"
  },
  "language_info": {
   "codemirror_mode": {
    "name": "ipython",
    "version": 3
   },
   "file_extension": ".py",
   "mimetype": "text/x-python",
   "name": "python",
   "nbconvert_exporter": "python",
   "pygments_lexer": "ipython3",
   "version": "3.11.1"
  }
 },
 "nbformat": 4,
 "nbformat_minor": 0
}
