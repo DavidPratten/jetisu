{
 "cells": [
  {
   "cell_type": "code",
   "execution_count": 15,
   "outputs": [],
   "source": [
    "%reload_ext jetisu.query_idr_magic"
   ],
   "metadata": {
    "collapsed": false
   }
  },
  {
   "cell_type": "markdown",
   "source": [
    "# Range\n",
    "\n",
    "When appropriately constrained in a query, the `range` relation returns\n",
    "all elements in a range of `N` equally spaced values `FromStart` to\n",
    "`ToStop`.\n",
    "\n",
    "The `range` relation is used to illustrate three aspects of\n",
    "intensionally defined relations:\n",
    "\n",
    "1.  Multi-row result sets\n",
    "\n",
    "2.  The folding of constraints from the query environment down to create\n",
    "    a new intensionally defined relation that may be queried without a\n",
    "    `WHERE` clause\n",
    "\n",
    "3.  Querying a relation from multiple directions as we normally do for\n",
    "    extensionally defined relations.\n",
    "\n",
    "Here is the definition MiniZinc:"
   ],
   "metadata": {
    "collapsed": false
   }
  },
  {
   "cell_type": "code",
   "execution_count": 16,
   "outputs": [
    {
     "data": {
      "text/plain": "<IPython.core.display.Markdown object>",
      "text/markdown": "```\n\npredicate range(var float: from_start,\n                var float: to_stop,\n                var int: n,\n                var int: nth,\n                var float: nth_value) =\nlet {\n  constraint n > 0;\n  constraint 0 <= nth /\\ nth <= n-1;\n  constraint nth_value = from_start + (to_stop-from_start) / (n-1) * nth ;\n} in true;\n```"
     },
     "metadata": {},
     "output_type": "display_data"
    }
   ],
   "source": [
    "%%jetisu_show\n",
    "range"
   ],
   "metadata": {
    "collapsed": false
   }
  },
  {
   "cell_type": "markdown",
   "source": [
    "The first example query illustrates how an intensionally defined\n",
    "relation may return multiple rows when queried, giving a result which starts at 10, finishes at 20 and has 5 values in\n",
    "the sequence:"
   ],
   "metadata": {
    "collapsed": false
   }
  },
  {
   "cell_type": "code",
   "execution_count": 17,
   "outputs": [
    {
     "data": {
      "text/plain": "<IPython.core.display.Markdown object>",
      "text/markdown": "|from_start|to_stop|n|nth|nth_value|\n|----|----|----|----|----|\n|10.0|20.0|5.0|0|10|\n|10.0|20.0|5.0|1|12.5|\n|10.0|20.0|5.0|2|15|\n|10.0|20.0|5.0|3|17.5|\n|10.0|20.0|5.0|4|20|"
     },
     "metadata": {},
     "output_type": "display_data"
    }
   ],
   "source": [
    "%%jetisu_query\n",
    "select * from range where N=5 and From_Start=10 and To_Stop = 20;"
   ],
   "metadata": {
    "collapsed": false
   }
  },
  {
   "cell_type": "markdown",
   "source": [
    "The second example query shows how the contents of `WHERE` clauses may\n",
    "be folded into intentional definition of the relation.\n",
    "\n",
    "```\n",
    "\n",
    "select * from range where N=5 and FromStart=10 and ToStop = 20 and nthValue < 13;\n",
    "```\n",
    "\n",
    "\n",
    "\n",
    "| FromStart | ToStop | N | nth | nthValue |\n",
    "| :-------- | :----- | :- | :-- | :------- |\n",
    "| 10.0      | 20.0   | 5 | 0   | 10       |\n",
    "| 10.0      | 20.0   | 5 | 1   | 12.5     |\n",
    "\n",
    "Second query results\n",
    "\n",
    "It is an implementation detail as to what plan was followed to generate\n",
    "this result. Here are a couple of alternative plans:\n",
    "\n",
    "  - Compute the result of the first example query and filter out rows\n",
    "    which do not have `nthValue < 13`\n",
    "\n",
    "  - Push the \"`nthValue < 13`\" constraint down into an intensionally\n",
    "    defined relation `range1` and query it instead of `range`.\n",
    "\n",
    "Here is an intensional definition of a relation where the query\n",
    "constraints in the `WHERE` clause are pushed down into the MiniZinc\n",
    "definition."
   ],
   "metadata": {
    "collapsed": false
   }
  },
  {
   "cell_type": "code",
   "execution_count": 18,
   "outputs": [
    {
     "data": {
      "text/plain": "<IPython.core.display.Markdown object>",
      "text/markdown": "```\n\npredicate range2(var float: from_start,\n                var float: to_stop,\n                var int: n,\n                var int: nth,\n                var float: nth_value) =\nlet {\n  constraint n > 0;\n  constraint 0 <= nth /\\ nth <= n-1;\n  constraint nth_value = from_start + (to_stop-from_start) / (n-1) * nth ;\n\n} in true;\nconstraint nth_value < 13.0;\nn = 5 ;\nfrom_start = 10;\nto_stop = 20;\n\n\n```"
     },
     "metadata": {},
     "output_type": "display_data"
    }
   ],
   "source": [
    "%%jetisu_show\n",
    "range2"
   ],
   "metadata": {
    "collapsed": false
   }
  },
  {
   "cell_type": "markdown",
   "source": [
    "and here is the result of querying this relation"
   ],
   "metadata": {
    "collapsed": false
   }
  },
  {
   "cell_type": "code",
   "execution_count": 19,
   "outputs": [
    {
     "data": {
      "text/plain": "<IPython.core.display.Markdown object>",
      "text/markdown": "|nth_value|from_start|to_stop|n|nth|\n|----|----|----|----|----|\n|10|10.0|20.0|5|0|\n|12.5|10.0|20.0|5|1|"
     },
     "metadata": {},
     "output_type": "display_data"
    }
   ],
   "source": [
    "%%jetisu_query\n",
    "select * from range2;"
   ],
   "metadata": {
    "collapsed": false
   }
  },
  {
   "cell_type": "markdown",
   "source": [
    "The third example query illustrates how the `range` relation may be\n",
    "queried from multiple directions, as is usually expected for relations. The following query gives a relation which finds the FromStart and Nth values which belong\n",
    "to sequences with nthValue of 15.0 which finish at 20 and have 5 values\n",
    "in each sequence. There are four tuples in the result:"
   ],
   "metadata": {
    "collapsed": false
   }
  },
  {
   "cell_type": "code",
   "execution_count": 20,
   "outputs": [
    {
     "data": {
      "text/plain": "<IPython.core.display.Markdown object>",
      "text/markdown": "|from_start|to_stop|n|nth|nth_value|\n|----|----|----|----|----|\n|15|20.0|5.0|0|15.0|\n|13.3333333333|20.0|5.0|1|15.0|\n|10|20.0|5.0|2|15.0|\n|0|20.0|5.0|3|15.0|"
     },
     "metadata": {},
     "output_type": "display_data"
    }
   ],
   "source": [
    "%%jetisu_query\n",
    "select * from range where N=5 and To_Stop = 20 and nth_Value=15.0;"
   ],
   "metadata": {
    "collapsed": false
   }
  }
 ],
 "metadata": {
  "kernelspec": {
   "display_name": "Python 3",
   "language": "python",
   "name": "python3"
  },
  "language_info": {
   "codemirror_mode": {
    "name": "ipython",
    "version": 2
   },
   "file_extension": ".py",
   "mimetype": "text/x-python",
   "name": "python",
   "nbconvert_exporter": "python",
   "pygments_lexer": "ipython2",
   "version": "2.7.6"
  }
 },
 "nbformat": 4,
 "nbformat_minor": 0
}
