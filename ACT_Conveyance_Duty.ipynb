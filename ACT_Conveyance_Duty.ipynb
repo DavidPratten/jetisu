{
 "cells": [
  {
   "cell_type": "code",
   "execution_count": 1,
   "outputs": [],
   "source": [
    "%reload_ext jetisu.query_idr_magic"
   ],
   "metadata": {
    "collapsed": false
   }
  },
  {
   "cell_type": "markdown",
   "source": [
    "# Australian Capital Territory (ACT) Conveyance Duty\n",
    "\n",
    "The following is an intensionally defined relation that captures the\n",
    "relationship between price and [conveyance duty in the ACT from 1 July\n",
    "2022](https://www.revenue.act.gov.au/duties/conveyance-duty). The duty\n",
    "payable depends firstly on whether the purchase is non-commercial or\n",
    "commercial and secondly, if non-commercial, whether the purchase is by\n",
    "an owner occupier. The definition is written in\n",
    "[MiniZinc](https://www.minizinc.org/).\n",
    "\n",
    "Callouts from this example include:\n",
    "\n",
    "  - the effort in capturing this calculation is of the same order as\n",
    "    using a procedural or functional language, however the\n",
    "    `ACT_Conveyance_Duty` intensionally defined relation has a bigger\n",
    "    \"pay-off\". It is queryable in any direction, just like an ordinary\n",
    "    database table\n",
    "\n",
    "  - the usage of an intensionally defined relation `units` in the\n",
    "    definition of `ACT_Conveyance_Duty`. This is a reusable relation\n",
    "    that captures the idea of converting a value to a number of units, whether full or partial.\n",
    "\n",
    "The the `ACT_Conveyance_Duty` intensionally defined relation has the\n",
    "following attributes\n",
    "\n",
    "```\n",
    "\n",
    "    ACT_Conveyance_Duty(var bool: non_commercial,\n",
    "                        var bool: eligible_owner_occupier,\n",
    "                        var int:price,\n",
    "                        var float:duty)\n",
    "```\n",
    "\n",
    "and the full definition in MiniZinc is shown at the end of this\n",
    "appendix.\n"
   ],
   "metadata": {
    "collapsed": false
   }
  },
  {
   "cell_type": "markdown",
   "source": [
    "## Querying the Conveyancing Rules\n",
    "\n",
    "Here is a selection of queries that demonstrate the number of different\n",
    "insights the intensionally defined relation can provide."
   ],
   "metadata": {
    "collapsed": false
   }
  },
  {
   "cell_type": "markdown",
   "source": [
    "### How much duty for a home occupier on a house of $1.2M?\n",
    "\n",
    "This query gives the answer of $47,590.\n"
   ],
   "metadata": {
    "collapsed": false
   }
  },
  {
   "cell_type": "code",
   "execution_count": 2,
   "outputs": [
    {
     "data": {
      "text/plain": "<IPython.core.display.Markdown object>",
      "text/markdown": "|price|duty|\n|----|----|\n|1200000.0|47590|"
     },
     "metadata": {},
     "output_type": "display_data"
    }
   ],
   "source": [
    "%%jetisu_query\n",
    "select price, duty from ACT_Conveyance_Duty where price = 1200000 and eligible_owner_occupier;"
   ],
   "metadata": {
    "collapsed": false
   }
  },
  {
   "cell_type": "markdown",
   "source": [
    "### How much duty for a non\\_commercial property valued at of $1.2M?\n",
    "\n",
    "This query shows that there are two classes of non-commercial property transactions, and the duty payable for each case.\n"
   ],
   "metadata": {
    "collapsed": false
   }
  },
  {
   "cell_type": "code",
   "execution_count": 3,
   "outputs": [
    {
     "data": {
      "text/plain": "<IPython.core.display.Markdown object>",
      "text/markdown": "|eligible_owner_occupier|duty|\n|----|----|\n|True|47590|\n|False|49750|"
     },
     "metadata": {},
     "output_type": "display_data"
    }
   ],
   "source": [
    "%%jetisu_query\n",
    "select eligible_owner_occupier, duty\n",
    "    from ACT_Conveyance_Duty\n",
    "    where price = 1200000 and non_commercial;"
   ],
   "metadata": {
    "collapsed": false
   }
  },
  {
   "cell_type": "markdown",
   "source": [
    "### How much duty is chargeable for a property valued at $1.2M?\n",
    "\n",
    "This query shows the comparative conveyancing duty across the various pricing\n",
    "regimes. Notice that the IDR has deduced and is reporting that there are\n",
    "*three* categories of payers."
   ],
   "metadata": {
    "collapsed": false
   }
  },
  {
   "cell_type": "code",
   "execution_count": 4,
   "outputs": [
    {
     "data": {
      "text/plain": "<IPython.core.display.Markdown object>",
      "text/markdown": "|non_commercial|eligible_owner_occupier|price|duty|\n|----|----|----|----|\n|False|False|1200000.0|0|\n|True|True|1200000.0|47590|\n|True|False|1200000.0|49750|"
     },
     "metadata": {},
     "output_type": "display_data"
    }
   ],
   "source": [
    "%%jetisu_query\n",
    "\n",
    "select * from ACT_Conveyance_Duty where price = 1200000;\n"
   ],
   "metadata": {
    "collapsed": false
   }
  },
  {
   "cell_type": "markdown",
   "source": [
    "### How much duty is chargeable for a property valued at $2M?\n",
    "\n",
    "This query shows the convergence of the owner occupied and non-occupied regimes at\n",
    "higher prices."
   ],
   "metadata": {
    "collapsed": false
   }
  },
  {
   "cell_type": "code",
   "execution_count": 5,
   "outputs": [
    {
     "data": {
      "text/plain": "<IPython.core.display.Markdown object>",
      "text/markdown": "|non_commercial|eligible_owner_occupier|price|duty|\n|----|----|----|----|\n|True|True|2000000.0|90800|\n|True|False|2000000.0|90800|\n|False|False|2000000.0|100000|"
     },
     "metadata": {},
     "output_type": "display_data"
    }
   ],
   "source": [
    "%%jetisu_query\n",
    "\n",
    "select * from ACT_Conveyance_Duty where price = 2000000;\n"
   ],
   "metadata": {
    "collapsed": false
   }
  },
  {
   "cell_type": "markdown",
   "source": [
    "### An owner occupier pays $50,150 in conveyancing duty. What is the corresponding house price?\n",
    "\n",
    "This query shows that there is more than one possible price that gives a duty value\n",
    "of $50,150. The IDR has deduced that there are 100 such values and\n",
    "reports them."
   ],
   "metadata": {
    "collapsed": false
   }
  },
  {
   "cell_type": "code",
   "execution_count": 6,
   "outputs": [
    {
     "data": {
      "text/plain": "<IPython.core.display.Markdown object>",
      "text/markdown": "|price|\n|----|\n|1240000|\n|1239901|\n|1239902|\n|1239903|\n|1239904|\n|1239905|\n|1239906|\n|1239907|\n|1239908|\n|1239909|\n|1239910|\n|1239911|\n|1239912|\n|1239913|\n|1239914|\n|1239915|\n|1239916|\n|1239917|\n|1239918|\n|1239919|\n|1239920|\n|1239921|\n|1239922|\n|1239923|\n|1239924|\n|1239925|\n|1239926|\n|1239927|\n|1239928|\n|1239929|\n|1239930|\n|1239931|\n|1239932|\n|1239933|\n|1239934|\n|1239935|\n|1239936|\n|1239937|\n|1239938|\n|1239939|\n|1239940|\n|1239941|\n|1239942|\n|1239943|\n|1239944|\n|1239945|\n|1239946|\n|1239947|\n|1239948|\n|1239949|\n|1239950|\n|1239951|\n|1239952|\n|1239953|\n|1239954|\n|1239955|\n|1239956|\n|1239957|\n|1239958|\n|1239959|\n|1239960|\n|1239961|\n|1239962|\n|1239963|\n|1239964|\n|1239965|\n|1239966|\n|1239967|\n|1239968|\n|1239969|\n|1239970|\n|1239971|\n|1239972|\n|1239973|\n|1239974|\n|1239975|\n|1239976|\n|1239977|\n|1239978|\n|1239979|\n|1239980|\n|1239981|\n|1239982|\n|1239983|\n|1239984|\n|1239985|\n|1239986|\n|1239987|\n|1239988|\n|1239989|\n|1239990|\n|1239991|\n|1239992|\n|1239993|\n|1239994|\n|1239995|\n|1239996|\n|1239997|\n|1239998|\n|1239999|"
     },
     "metadata": {},
     "output_type": "display_data"
    }
   ],
   "source": [
    "%%jetisu_query\n",
    "\n",
    "select price from ACT_Conveyance_Duty where duty = 50150 and eligible_owner_occupier;\n"
   ],
   "metadata": {
    "collapsed": false
   }
  },
  {
   "cell_type": "markdown",
   "source": [
    "### A property owner pays $140,740 in conveyancing duty. What are the corresponding property prices?\n",
    "\n",
    "This query shows the price ranges across the three regimes."
   ],
   "metadata": {
    "collapsed": false
   }
  },
  {
   "cell_type": "code",
   "execution_count": 7,
   "outputs": [
    {
     "data": {
      "text/plain": "<IPython.core.display.Markdown object>",
      "text/markdown": "|non_commercial|eligible_owner_occupier|min_price|max_price|\n|----|----|----|----|\n|False|False|2814701|2814800|\n|True|False|3099901|3100000|\n|True|True|3099901|3100000|"
     },
     "metadata": {},
     "output_type": "display_data"
    }
   ],
   "source": [
    "%%jetisu_query\n",
    "\n",
    "select non_commercial,\n",
    "    eligible_owner_occupier,\n",
    "    min(price) min_price,\n",
    "    max(price) max_price\n",
    "from ACT_Conveyance_Duty\n",
    "where duty = 140740\n",
    "group by non_commercial,\n",
    "    eligible_owner_occupier;\n"
   ],
   "metadata": {
    "collapsed": false
   }
  },
  {
   "cell_type": "markdown",
   "source": [
    "### Definition\n",
    "Here is the definition of the ```ACT_Conveyance_Duty``` intensionally defined relation."
   ],
   "metadata": {
    "collapsed": false
   }
  },
  {
   "cell_type": "code",
   "execution_count": 8,
   "outputs": [
    {
     "name": "stderr",
     "output_type": "stream",
     "text": [
      "UsageError: Cell magic `%%sjetisu_show` not found.\n"
     ]
    }
   ],
   "source": [
    "%%sjetisu_show\n",
    "ACT_Conveyance_Duty"
   ],
   "metadata": {
    "collapsed": false
   }
  },
  {
   "cell_type": "code",
   "execution_count": null,
   "outputs": [],
   "source": [],
   "metadata": {
    "collapsed": false
   }
  }
 ],
 "metadata": {
  "kernelspec": {
   "display_name": "Python 3",
   "language": "python",
   "name": "python3"
  },
  "language_info": {
   "codemirror_mode": {
    "name": "ipython",
    "version": 2
   },
   "file_extension": ".py",
   "mimetype": "text/x-python",
   "name": "python",
   "nbconvert_exporter": "python",
   "pygments_lexer": "ipython2",
   "version": "2.7.6"
  }
 },
 "nbformat": 4,
 "nbformat_minor": 0
}
